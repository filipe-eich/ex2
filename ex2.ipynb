{
 "cells": [
  {
   "cell_type": "code",
   "execution_count": 4,
   "id": "9ac1ece2-314b-47dc-99a7-1446991fbb1c",
   "metadata": {},
   "outputs": [
    {
     "data": {
      "text/plain": [
       "'\\nPrograma: Hello\\nDescrição: imprima na tela a frase \"Hello, World!\"\\nAutor: Filipe Eich\\nData: 25/02/2025\\nVersao: 0.0.3\\n\\n25/02/2025\\n1. Nesta versão, o usuário poderá entrar com seu nome para ser cumprimentado pelo programa.\\n'"
      ]
     },
     "execution_count": 4,
     "metadata": {},
     "output_type": "execute_result"
    }
   ],
   "source": [
    "\"\"\"\n",
    "Programa: soma_2_3\n",
    "Descrição: Soma 2 e 3\n",
    "Autor: Filipe Eich\n",
    "Data: 25/02/2025\n",
    "Versao: 0.0.1\n",
    "\n",
    "\"\"\"\n"
   ]
  },
  {
   "cell_type": "code",
   "execution_count": 18,
   "id": "54667684-c234-4b55-bee7-ae61b533165c",
   "metadata": {},
   "outputs": [],
   "source": [
    "#Alocaçao de memoria\n",
    "\n",
    "var1=2\n",
    "var2=3"
   ]
  },
  {
   "cell_type": "code",
   "execution_count": 20,
   "id": "038041dc-4ca7-4a87-9a91-1b6f5ad5c510",
   "metadata": {},
   "outputs": [],
   "source": [
    "#Entrada de dados\n",
    "\n"
   ]
  },
  {
   "cell_type": "code",
   "execution_count": 30,
   "id": "ec9d4419-8661-457f-ace3-c71147cc9c09",
   "metadata": {},
   "outputs": [],
   "source": [
    "# Processamento de dados\n",
    "\n",
    "soma=var1+var2"
   ]
  },
  {
   "cell_type": "code",
   "execution_count": 32,
   "id": "0f2a652c-eb2e-46ea-b958-33ad234c6937",
   "metadata": {},
   "outputs": [
    {
     "name": "stdout",
     "output_type": "stream",
     "text": [
      "5\n"
     ]
    }
   ],
   "source": [
    "#Saida de dados\n",
    "\n",
    "\n",
    "print(soma)"
   ]
  },
  {
   "cell_type": "code",
   "execution_count": null,
   "id": "62b64dab-2753-488a-b5cc-2357efd4c678",
   "metadata": {},
   "outputs": [],
   "source": []
  }
 ],
 "metadata": {
  "kernelspec": {
   "display_name": "Python [conda env:base] *",
   "language": "python",
   "name": "conda-base-py"
  },
  "language_info": {
   "codemirror_mode": {
    "name": "ipython",
    "version": 3
   },
   "file_extension": ".py",
   "mimetype": "text/x-python",
   "name": "python",
   "nbconvert_exporter": "python",
   "pygments_lexer": "ipython3",
   "version": "3.12.7"
  }
 },
 "nbformat": 4,
 "nbformat_minor": 5
}
